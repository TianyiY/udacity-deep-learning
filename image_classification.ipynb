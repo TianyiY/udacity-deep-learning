{
 "cells": [
  {
   "cell_type": "markdown",
   "metadata": {
    "collapsed": true
   },
   "source": [
    "# Image Classification\n",
    "In this project, you'll classify images from the [CIFAR-10 dataset](https://www.cs.toronto.edu/~kriz/cifar.html).  The dataset consists of airplanes, dogs, cats, and other objects. You'll preprocess the images, then train a convolutional neural network on all the samples. The images need to be normalized and the labels need to be one-hot encoded.  You'll get to apply what you learned and build a convolutional, max pooling, dropout, and fully connected layers.  At the end, you'll get to see your neural network's predictions on the sample images.\n",
    "## Get the Data\n",
    "Run the following cell to download the [CIFAR-10 dataset for python](https://www.cs.toronto.edu/~kriz/cifar-10-python.tar.gz)."
   ]
  },
  {
   "cell_type": "code",
   "execution_count": 1,
   "metadata": {},
   "outputs": [
    {
     "name": "stdout",
     "output_type": "stream",
     "text": [
      "All files found!\n"
     ]
    }
   ],
   "source": [
    "\"\"\"\n",
    "DON'T MODIFY ANYTHING IN THIS CELL THAT IS BELOW THIS LINE\n",
    "\"\"\"\n",
    "from urllib.request import urlretrieve\n",
    "from os.path import isfile, isdir\n",
    "from tqdm import tqdm\n",
    "import problem_unittests as tests\n",
    "import tarfile\n",
    "\n",
    "cifar10_dataset_folder_path = 'cifar-10-batches-py'\n",
    "\n",
    "class DLProgress(tqdm):\n",
    "    last_block = 0\n",
    "\n",
    "    def hook(self, block_num=1, block_size=1, total_size=None):\n",
    "        self.total = total_size\n",
    "        self.update((block_num - self.last_block) * block_size)\n",
    "        self.last_block = block_num\n",
    "\n",
    "if not isfile('cifar-10-python.tar.gz'):\n",
    "    with DLProgress(unit='B', unit_scale=True, miniters=1, desc='CIFAR-10 Dataset') as pbar:\n",
    "        urlretrieve(\n",
    "            'https://www.cs.toronto.edu/~kriz/cifar-10-python.tar.gz',\n",
    "            'cifar-10-python.tar.gz',\n",
    "            pbar.hook)\n",
    "\n",
    "if not isdir(cifar10_dataset_folder_path):\n",
    "    with tarfile.open('cifar-10-python.tar.gz') as tar:\n",
    "        tar.extractall()\n",
    "        tar.close()\n",
    "\n",
    "\n",
    "tests.test_folder_path(cifar10_dataset_folder_path)"
   ]
  },
  {
   "cell_type": "markdown",
   "metadata": {},
   "source": [
    "## Explore the Data\n",
    "The dataset is broken into batches to prevent your machine from running out of memory.  The CIFAR-10 dataset consists of 5 batches, named `data_batch_1`, `data_batch_2`, etc.. Each batch contains the labels and images that are one of the following:\n",
    "* airplane\n",
    "* automobile\n",
    "* bird\n",
    "* cat\n",
    "* deer\n",
    "* dog\n",
    "* frog\n",
    "* horse\n",
    "* ship\n",
    "* truck\n",
    "\n",
    "Understanding a dataset is part of making predictions on the data.  Play around with the code cell below by changing the `batch_id` and `sample_id`. The `batch_id` is the id for a batch (1-5). The `sample_id` is the id for a image and label pair in the batch.\n",
    "\n",
    "Ask yourself \"What are all possible labels?\", \"What is the range of values for the image data?\", \"Are the labels in order or random?\".  Answers to questions like these will help you preprocess the data and end up with better predictions."
   ]
  },
  {
   "cell_type": "code",
   "execution_count": 2,
   "metadata": {},
   "outputs": [
    {
     "name": "stdout",
     "output_type": "stream",
     "text": [
      "\n",
      "Stats of batch 1:\n",
      "Samples: 10000\n",
      "Label Counts: {0: 1005, 1: 974, 2: 1032, 3: 1016, 4: 999, 5: 937, 6: 1030, 7: 1001, 8: 1025, 9: 981}\n",
      "First 20 Labels: [6, 9, 9, 4, 1, 1, 2, 7, 8, 3, 4, 7, 7, 2, 9, 9, 9, 3, 2, 6]\n",
      "\n",
      "Example of Image 5:\n",
      "Image - Min Value: 0 Max Value: 252\n",
      "Image - Shape: (32, 32, 3)\n",
      "Label - Label Id: 1 Name: automobile\n"
     ]
    },
    {
     "data": {
      "image/png": "[encoded data removed]",
      "text/plain": [
       "<matplotlib.figure.Figure at 0x762c0352b0>"
      ]
     },
     "metadata": {
      "image/png": {
       "height": 250,
       "width": 253
      }
     },
     "output_type": "display_data"
    }
   ],
   "source": [
    "%matplotlib inline\n",
    "%config InlineBackend.figure_format = 'retina'\n",
    "\n",
    "import helper\n",
    "import numpy as np\n",
    "\n",
    "# Explore the dataset\n",
    "batch_id = 1\n",
    "sample_id = 5\n",
    "helper.display_stats(cifar10_dataset_folder_path, batch_id, sample_id)"
   ]
  },
  {
   "cell_type": "markdown",
   "metadata": {},
   "source": [
    "## Implement Preprocess Functions\n",
    "### Normalize\n",
    "In the cell below, implement the `normalize` function to take in image data, `x`, and return it as a normalized Numpy array. The values should be in the range of 0 to 1, inclusive.  The return object should be the same shape as `x`."
   ]
  },
  {
   "cell_type": "code",
   "execution_count": 3,
   "metadata": {},
   "outputs": [
    {
     "name": "stdout",
     "output_type": "stream",
     "text": [
      "Tests Passed\n"
     ]
    }
   ],
   "source": [
    "def normalize(x):\n",
    "    \"\"\"\n",
    "    Normalize a list of sample image data in the range of 0 to 1\n",
    "    : x: List of image data.  The image shape is (32, 32, 3)\n",
    "    : return: Numpy array of normalize data\n",
    "    \"\"\"\n",
    "    # TODO: Implement Function\n",
    "    # in numpy, scaled_image_data = image_data / 255 is usually used to normalize the image\n",
    "    return np.array(x/255.0)\n",
    "\n",
    "\n",
    "\"\"\"\n",
    "DON'T MODIFY ANYTHING IN THIS CELL THAT IS BELOW THIS LINE\n",
    "\"\"\"\n",
    "tests.test_normalize(normalize)"
   ]
  },
  {
   "cell_type": "markdown",
   "metadata": {},
   "source": [
    "### One-hot encode\n",
    "Just like the previous code cell, you'll be implementing a function for preprocessing.  This time, you'll implement the `one_hot_encode` function. The input, `x`, are a list of labels.  Implement the function to return the list of labels as One-Hot encoded Numpy array.  The possible values for labels are 0 to 9. The one-hot encoding function should return the same encoding for each value between each call to `one_hot_encode`.  Make sure to save the map of encodings outside the function.\n",
    "\n",
    "**Hint:**\n",
    "\n",
    "Look into LabelBinarizer in the preprocessing module of sklearn."
   ]
  },
  {
   "cell_type": "code",
   "execution_count": 4,
   "metadata": {},
   "outputs": [
    {
     "name": "stdout",
     "output_type": "stream",
     "text": [
      "Tests Passed\n"
     ]
    }
   ],
   "source": [
    "from sklearn.preprocessing import OneHotEncoder\n",
    "\n",
    "def one_hot_encode(x):\n",
    "    \"\"\"\n",
    "    One hot encode a list of sample labels. Return a one-hot encoded vector for each label.\n",
    "    : x: List of sample Labels\n",
    "    : return: Numpy array of one-hot encoded labels\n",
    "    \"\"\"\n",
    "    # TODO: Implement Function\n",
    "    # sklearn.preprocessing.OneHotEncoder(n_values='auto', categorical_features='all', dtype=<type 'numpy.float64'>, sparse=True, handle_unknown='error')\n",
    "    # fit(X[, y])\tFit OneHotEncoder to X.\n",
    "    # fit_transform(X[, y])-\tFit OneHotEncoder to X, then transform X.\n",
    "    OHE=OneHotEncoder(10)        # n_values= 10 labels\n",
    "    return OHE.fit_transform(np.array(x).reshape(-1, 1)).toarray()\n",
    "\n",
    "\"\"\"\n",
    "DON'T MODIFY ANYTHING IN THIS CELL THAT IS BELOW THIS LINE\n",
    "\"\"\"\n",
    "tests.test_one_hot_encode(one_hot_encode)"
   ]
  },
  {
   "cell_type": "markdown",
   "metadata": {},
   "source": [
    "### Randomize Data\n",
    "As you saw from exploring the data above, the order of the samples are randomized.  It doesn't hurt to randomize it again, but you don't need to for this dataset."
   ]
  },
  {
   "cell_type": "markdown",
   "metadata": {},
   "source": [
    "## Preprocess all the data and save it\n",
    "Running the code cell below will preprocess all the CIFAR-10 data and save it to file. The code below also uses 10% of the training data for validation."
   ]
  },
  {
   "cell_type": "code",
   "execution_count": 5,
   "metadata": {
    "collapsed": true
   },
   "outputs": [],
   "source": [
    "\"\"\"\n",
    "DON'T MODIFY ANYTHING IN THIS CELL\n",
    "\"\"\"\n",
    "# Preprocess Training, Validation, and Testing Data\n",
    "helper.preprocess_and_save_data(cifar10_dataset_folder_path, normalize, one_hot_encode)"
   ]
  },
  {
   "cell_type": "markdown",
   "metadata": {},
   "source": [
    "# Check Point\n",
    "This is your first checkpoint.  If you ever decide to come back to this notebook or have to restart the notebook, you can start from here.  The preprocessed data has been saved to disk."
   ]
  },
  {
   "cell_type": "code",
   "execution_count": 6,
   "metadata": {
    "collapsed": true
   },
   "outputs": [],
   "source": [
    "\"\"\"\n",
    "DON'T MODIFY ANYTHING IN THIS CELL\n",
    "\"\"\"\n",
    "import pickle\n",
    "import problem_unittests as tests\n",
    "import helper\n",
    "\n",
    "# Load the Preprocessed Validation data\n",
    "valid_features, valid_labels = pickle.load(open('preprocess_validation.p', mode='rb'))"
   ]
  },
  {
   "cell_type": "markdown",
   "metadata": {},
   "source": [
    "## Build the network\n",
    "For the neural network, you'll build each layer into a function.  Most of the code you've seen has been outside of functions. To test your code more thoroughly, we require that you put each layer in a function.  This allows us to give you better feedback and test for simple mistakes using our unittests before you submit your project.\n",
    "\n",
    ">**Note:** If you're finding it hard to dedicate enough time for this course each week, we've provided a small shortcut to this part of the project. In the next couple of problems, you'll have the option to use classes from the [TensorFlow Layers](https://www.tensorflow.org/api_docs/python/tf/layers) or [TensorFlow Layers (contrib)](https://www.tensorflow.org/api_guides/python/contrib.layers) packages to build each layer, except the layers you build in the \"Convolutional and Max Pooling Layer\" section.  TF Layers is similar to Keras's and TFLearn's abstraction to layers, so it's easy to pickup.\n",
    "\n",
    ">However, if you would like to get the most out of this course, try to solve all the problems _without_ using anything from the TF Layers packages. You **can** still use classes from other packages that happen to have the same name as ones you find in TF Layers! For example, instead of using the TF Layers version of the `conv2d` class, [tf.layers.conv2d](https://www.tensorflow.org/api_docs/python/tf/layers/conv2d), you would want to use the TF Neural Network version of `conv2d`, [tf.nn.conv2d](https://www.tensorflow.org/api_docs/python/tf/nn/conv2d). \n",
    "\n",
    "Let's begin!\n",
    "\n",
    "### Input\n",
    "The neural network needs to read the image data, one-hot encoded labels, and dropout keep probability. Implement the following functions\n",
    "* Implement `neural_net_image_input`\n",
    " * Return a [TF Placeholder](https://www.tensorflow.org/api_docs/python/tf/placeholder)\n",
    " * Set the shape using `image_shape` with batch size set to `None`.\n",
    " * Name the TensorFlow placeholder \"x\" using the TensorFlow `name` parameter in the [TF Placeholder](https://www.tensorflow.org/api_docs/python/tf/placeholder).\n",
    "* Implement `neural_net_label_input`\n",
    " * Return a [TF Placeholder](https://www.tensorflow.org/api_docs/python/tf/placeholder)\n",
    " * Set the shape using `n_classes` with batch size set to `None`.\n",
    " * Name the TensorFlow placeholder \"y\" using the TensorFlow `name` parameter in the [TF Placeholder](https://www.tensorflow.org/api_docs/python/tf/placeholder).\n",
    "* Implement `neural_net_keep_prob_input`\n",
    " * Return a [TF Placeholder](https://www.tensorflow.org/api_docs/python/tf/placeholder) for dropout keep probability.\n",
    " * Name the TensorFlow placeholder \"keep_prob\" using the TensorFlow `name` parameter in the [TF Placeholder](https://www.tensorflow.org/api_docs/python/tf/placeholder).\n",
    "\n",
    "These names will be used at the end of the project to load your saved model.\n",
    "\n",
    "Note: `None` for shapes in TensorFlow allow for a dynamic size."
   ]
  },
  {
   "cell_type": "code",
   "execution_count": 7,
   "metadata": {},
   "outputs": [
    {
     "name": "stdout",
     "output_type": "stream",
     "text": [
      "Image Input Tests Passed.\n",
      "Label Input Tests Passed.\n",
      "Keep Prob Tests Passed.\n"
     ]
    }
   ],
   "source": [
    "import tensorflow as tf\n",
    "\n",
    "def neural_net_image_input(image_shape):\n",
    "    \"\"\"\n",
    "    Return a Tensor for a batch of image input\n",
    "    : image_shape: Shape of the images\n",
    "    : return: Tensor for image input.\n",
    "    \"\"\"\n",
    "    # TODO: Implement Function, name it 'x'\n",
    "    return tf.placeholder(tf.float32, [None, image_shape[0], image_shape[1], image_shape[2]], name='x')\n",
    "\n",
    "\n",
    "def neural_net_label_input(n_classes):\n",
    "    \"\"\"\n",
    "    Return a Tensor for a batch of label input\n",
    "    : n_classes: Number of classes\n",
    "    : return: Tensor for label input.\n",
    "    \"\"\"\n",
    "    # TODO: Implement Function, name it 'y'\n",
    "    return tf.placeholder(tf.float32, [None, n_classes], name='y')\n",
    "\n",
    "\n",
    "def neural_net_keep_prob_input():\n",
    "    \"\"\"\n",
    "    Return a Tensor for keep probability\n",
    "    : return: Tensor for keep probability.\n",
    "    \"\"\"\n",
    "    # TODO: Implement Function, name it 'keep_prob'\n",
    "    return tf.placeholder(tf.float32, name='keep_prob')\n",
    "\n",
    "\n",
    "\"\"\"\n",
    "DON'T MODIFY ANYTHING IN THIS CELL THAT IS BELOW THIS LINE\n",
    "\"\"\"\n",
    "tf.reset_default_graph()\n",
    "tests.test_nn_image_inputs(neural_net_image_input)\n",
    "tests.test_nn_label_inputs(neural_net_label_input)\n",
    "tests.test_nn_keep_prob_inputs(neural_net_keep_prob_input)"
   ]
  },
  {
   "cell_type": "markdown",
   "metadata": {},
   "source": [
    "### Convolution and Max Pooling Layer\n",
    "Convolution layers have a lot of success with images. For this code cell, you should implement the function `conv2d_maxpool` to apply convolution then max pooling:\n",
    "* Create the weight and bias using `conv_ksize`, `conv_num_outputs` and the shape of `x_tensor`.\n",
    "* Apply a convolution to `x_tensor` using weight and `conv_strides`.\n",
    " * We recommend you use same padding, but you're welcome to use any padding.\n",
    "* Add bias\n",
    "* Add a nonlinear activation to the convolution.\n",
    "* Apply Max Pooling using `pool_ksize` and `pool_strides`.\n",
    " * We recommend you use same padding, but you're welcome to use any padding.\n",
    "\n",
    "**Note:** You **can't** use [TensorFlow Layers](https://www.tensorflow.org/api_docs/python/tf/layers) or [TensorFlow Layers (contrib)](https://www.tensorflow.org/api_guides/python/contrib.layers) for **this** layer, but you can still use TensorFlow's [Neural Network](https://www.tensorflow.org/api_docs/python/tf/nn) package. You may still use the shortcut option for all the **other** layers.\n",
    "\n",
    "** Hint: **\n",
    "\n",
    "When unpacking values as an argument in Python, look into the [unpacking](https://docs.python.org/3/tutorial/controlflow.html#unpacking-argument-lists) operator. "
   ]
  },
  {
   "cell_type": "code",
   "execution_count": 8,
   "metadata": {},
   "outputs": [
    {
     "name": "stdout",
     "output_type": "stream",
     "text": [
      "Tests Passed\n"
     ]
    }
   ],
   "source": [
    "def conv2d_maxpool(x_tensor, conv_num_outputs, conv_ksize, conv_strides, pool_ksize, pool_strides):\n",
    "    \"\"\"\n",
    "    Apply convolution then max pooling to x_tensor\n",
    "    :param x_tensor: TensorFlow Tensor\n",
    "    :param conv_num_outputs: Number of outputs for the convolutional layer\n",
    "    :param conv_ksize: kernal size 2-D Tuple for the convolutional layer\n",
    "    :param conv_strides: Stride 2-D Tuple for convolution\n",
    "    :param pool_ksize: kernal size 2-D Tuple for pool\n",
    "    :param pool_strides: Stride 2-D Tuple for pool\n",
    "    : return: A tensor that represents convolution and max pooling of x_tensor\n",
    "    \"\"\"\n",
    "    # TODO: Implement Function\n",
    "    # tf.truncated_normal(shape, mean=0.0, stddev=1.0, dtype=tf.float32, seed=None, name=None)\n",
    "    weights=tf.Variable(tf.truncated_normal([conv_ksize[0], conv_ksize[1], x_tensor.get_shape().as_list()[-1], conv_num_outputs], mean=0.0, stddev=0.1))\n",
    "    biases=tf.Variable(tf.zeros(conv_num_outputs))\n",
    "    convolution=tf.nn.bias_add(tf.nn.conv2d(x_tensor, weights, strides=[1, conv_strides[0], conv_strides[1], 1], padding='SAME'), biases)\n",
    "    # relu is an usually used nonlinear activation function\n",
    "    relu=tf.nn.relu(convolution)\n",
    "    # tf.nn.max_pool(value, ksize, strides, padding, data_format='NHWC', name=None)\n",
    "    output=tf.nn.max_pool(relu, ksize=[1, pool_ksize[0], pool_ksize[1], 1], strides=[1, pool_strides[0], pool_strides[1], 1], padding='SAME')\n",
    "    return output \n",
    "\n",
    "\n",
    "\"\"\"\n",
    "DON'T MODIFY ANYTHING IN THIS CELL THAT IS BELOW THIS LINE\n",
    "\"\"\"\n",
    "tests.test_con_pool(conv2d_maxpool)"
   ]
  },
  {
   "cell_type": "markdown",
   "metadata": {},
   "source": [
    "### Flatten Layer\n",
    "Implement the `flatten` function to change the dimension of `x_tensor` from a 4-D tensor to a 2-D tensor.  The output should be the shape (*Batch Size*, *Flattened Image Size*). Shortcut option: you can use classes from the [TensorFlow Layers](https://www.tensorflow.org/api_docs/python/tf/layers) or [TensorFlow Layers (contrib)](https://www.tensorflow.org/api_guides/python/contrib.layers) packages for this layer. For more of a challenge, only use other TensorFlow packages."
   ]
  },
  {
   "cell_type": "code",
   "execution_count": 9,
   "metadata": {},
   "outputs": [
    {
     "name": "stdout",
     "output_type": "stream",
     "text": [
      "Tests Passed\n"
     ]
    }
   ],
   "source": [
    "def flatten(x_tensor):\n",
    "    \"\"\"\n",
    "    Flatten x_tensor to (Batch Size, Flattened Image Size)\n",
    "    : x_tensor: A tensor of size (Batch Size, ...), where ... are the image dimensions.\n",
    "    : return: A tensor of size (Batch Size, Flattened Image Size).\n",
    "    \"\"\"\n",
    "    # TODO: Implement Function\n",
    "    # use tf.contrib.layers.flatten to Flattens the input while maintaining the batch_size.\n",
    "    return tf.contrib.layers.flatten(x_tensor)\n",
    "\n",
    "\"\"\"\n",
    "DON'T MODIFY ANYTHING IN THIS CELL THAT IS BELOW THIS LINE\n",
    "\"\"\"\n",
    "tests.test_flatten(flatten)"
   ]
  },
  {
   "cell_type": "markdown",
   "metadata": {},
   "source": [
    "### Fully-Connected Layer\n",
    "Implement the `fully_conn` function to apply a fully connected layer to `x_tensor` with the shape (*Batch Size*, *num_outputs*). Shortcut option: you can use classes from the [TensorFlow Layers](https://www.tensorflow.org/api_docs/python/tf/layers) or [TensorFlow Layers (contrib)](https://www.tensorflow.org/api_guides/python/contrib.layers) packages for this layer. For more of a challenge, only use other TensorFlow packages."
   ]
  },
  {
   "cell_type": "code",
   "execution_count": 10,
   "metadata": {},
   "outputs": [
    {
     "name": "stdout",
     "output_type": "stream",
     "text": [
      "Tests Passed\n"
     ]
    }
   ],
   "source": [
    "def fully_conn(x_tensor, num_outputs):\n",
    "    \"\"\"\n",
    "    Apply a fully connected layer to x_tensor using weight and bias\n",
    "    : x_tensor: A 2-D tensor where the first dimension is batch size.\n",
    "    : num_outputs: The number of output that the new tensor should be.\n",
    "    : return: A 2-D tensor where the second dimension is num_outputs.\n",
    "    \"\"\"\n",
    "    # TODO: Implement Function\n",
    "    x_tensor=tf.contrib.layers.flatten(x_tensor)\n",
    "    weight=tf.Variable(tf.truncated_normal([x_tensor.get_shape().as_list()[-1], num_outputs], mean=0.0, stddev=0.1))\n",
    "    bias=tf.Variable(tf.zeros([num_outputs]))\n",
    "    fully_con_layer=tf.add(tf.matmul(x_tensor, weight), bias)\n",
    "    result=tf.nn.relu(fully_con_layer)\n",
    "    return result\n",
    "\n",
    "\"\"\"\n",
    "DON'T MODIFY ANYTHING IN THIS CELL THAT IS BELOW THIS LINE\n",
    "\"\"\"\n",
    "tests.test_fully_conn(fully_conn)"
   ]
  },
  {
   "cell_type": "markdown",
   "metadata": {},
   "source": [
    "### Output Layer\n",
    "Implement the `output` function to apply a fully connected layer to `x_tensor` with the shape (*Batch Size*, *num_outputs*). Shortcut option: you can use classes from the [TensorFlow Layers](https://www.tensorflow.org/api_docs/python/tf/layers) or [TensorFlow Layers (contrib)](https://www.tensorflow.org/api_guides/python/contrib.layers) packages for this layer. For more of a challenge, only use other TensorFlow packages.\n",
    "\n",
    "**Note:** Activation, softmax, or cross entropy should **not** be applied to this."
   ]
  },
  {
   "cell_type": "code",
   "execution_count": 11,
   "metadata": {},
   "outputs": [
    {
     "name": "stdout",
     "output_type": "stream",
     "text": [
      "Tests Passed\n"
     ]
    }
   ],
   "source": [
    "def output(x_tensor, num_outputs):\n",
    "    \"\"\"\n",
    "    Apply a output layer to x_tensor using weight and bias\n",
    "    : x_tensor: A 2-D tensor where the first dimension is batch size.\n",
    "    : num_outputs: The number of output that the new tensor should be.\n",
    "    : return: A 2-D tensor where the second dimension is num_outputs.\n",
    "    \"\"\"\n",
    "    # TODO: Implement Function\n",
    "    x_tensor=tf.contrib.layers.flatten(x_tensor)\n",
    "    weight=tf.Variable(tf.truncated_normal([x_tensor.get_shape().as_list()[-1], num_outputs], mean=0.0, stddev=0.1))\n",
    "    bias=tf.Variable(tf.zeros([num_outputs]))\n",
    "    result=tf.add(tf.matmul(x_tensor, weight), bias)    \n",
    "    return result\n",
    "\n",
    "\"\"\"\n",
    "DON'T MODIFY ANYTHING IN THIS CELL THAT IS BELOW THIS LINE\n",
    "\"\"\"\n",
    "tests.test_output(output)"
   ]
  },
  {
   "cell_type": "markdown",
   "metadata": {},
   "source": [
    "### Create Convolutional Model\n",
    "Implement the function `conv_net` to create a convolutional neural network model. The function takes in a batch of images, `x`, and outputs logits.  Use the layers you created above to create this model:\n",
    "\n",
    "* Apply 1, 2, or 3 Convolution and Max Pool layers\n",
    "* Apply a Flatten Layer\n",
    "* Apply 1, 2, or 3 Fully Connected Layers\n",
    "* Apply an Output Layer\n",
    "* Return the output\n",
    "* Apply [TensorFlow's Dropout](https://www.tensorflow.org/api_docs/python/tf/nn/dropout) to one or more layers in the model using `keep_prob`. "
   ]
  },
  {
   "cell_type": "code",
   "execution_count": 12,
   "metadata": {},
   "outputs": [
    {
     "name": "stdout",
     "output_type": "stream",
     "text": [
      "Neural Network Built!\n"
     ]
    }
   ],
   "source": [
    "def conv_net(x, keep_prob):\n",
    "    \"\"\"\n",
    "    Create a convolutional neural network model\n",
    "    : x: Placeholder tensor that holds image data.\n",
    "    : keep_prob: Placeholder tensor that hold dropout keep probability.\n",
    "    : return: Tensor that represents logits\n",
    "    \"\"\"\n",
    "    # TODO: Apply 1, 2, or 3 Convolution and Max Pool layers\n",
    "    #    Play around with different number of outputs, kernel size and stride\n",
    "    # Function Definition from Above:\n",
    "    #    conv2d_maxpool(x_tensor, conv_num_outputs, conv_ksize, conv_strides, pool_ksize, pool_strides)\n",
    "    Conv_MaxPool_Layer1=conv2d_maxpool(x, conv_num_outputs=12, conv_ksize=[3, 3], conv_strides=[1, 1], pool_ksize=[2, 2], pool_strides=[2, 2])\n",
    "    Conv_MaxPool_Layer2=conv2d_maxpool(Conv_MaxPool_Layer1, conv_num_outputs=36, conv_ksize=[3, 3], conv_strides=[1, 1], pool_ksize=[2, 2], pool_strides=[2, 2])\n",
    "    Conv_MaxPool_Layer3=conv2d_maxpool(Conv_MaxPool_Layer2, conv_num_outputs=108, conv_ksize=[3, 3], conv_strides=[1, 1], pool_ksize=[2, 2], pool_strides=[2, 2])\n",
    "    \n",
    "    # TODO: Apply a Flatten Layer\n",
    "    # Function Definition from Above:\n",
    "    #   flatten(x_tensor)\n",
    "    Conv_MaxPool_Layer_Flatten=flatten(Conv_MaxPool_Layer3)\n",
    "\n",
    "    # TODO: Apply 1, 2, or 3 Fully Connected Layers\n",
    "    #    Play around with different number of outputs\n",
    "    # Function Definition from Above:\n",
    "    #   fully_conn(x_tensor, num_outputs)\n",
    "    Fully_Connected_Layer=fully_conn(Conv_MaxPool_Layer_Flatten, 54)\n",
    "    Output_Layer=tf.nn.dropout(Fully_Connected_Layer, keep_prob)\n",
    "\n",
    "    \n",
    "    # TODO: Apply an Output Layer\n",
    "    #    Set this to the number of classes\n",
    "    # Function Definition from Above:\n",
    "    #   output(x_tensor, num_outputs)\n",
    "    Output=output(Output_Layer, 10)      # number of label=10\n",
    "    \n",
    "    # TODO: return output\n",
    "    return Output\n",
    "\n",
    "\n",
    "\"\"\"\n",
    "DON'T MODIFY ANYTHING IN THIS CELL THAT IS BELOW THIS LINE\n",
    "\"\"\"\n",
    "\n",
    "##############################\n",
    "## Build the Neural Network ##\n",
    "##############################\n",
    "\n",
    "# Remove previous weights, bias, inputs, etc..\n",
    "tf.reset_default_graph()\n",
    "\n",
    "# Inputs\n",
    "x = neural_net_image_input((32, 32, 3))\n",
    "y = neural_net_label_input(10)\n",
    "keep_prob = neural_net_keep_prob_input()\n",
    "\n",
    "# Model\n",
    "logits = conv_net(x, keep_prob)\n",
    "\n",
    "# Name logits Tensor, so that is can be loaded from disk after training\n",
    "logits = tf.identity(logits, name='logits')\n",
    "\n",
    "# Loss and Optimizer\n",
    "cost = tf.reduce_mean(tf.nn.softmax_cross_entropy_with_logits(logits=logits, labels=y))\n",
    "optimizer = tf.train.AdamOptimizer().minimize(cost)\n",
    "\n",
    "# Accuracy\n",
    "correct_pred = tf.equal(tf.argmax(logits, 1), tf.argmax(y, 1))\n",
    "accuracy = tf.reduce_mean(tf.cast(correct_pred, tf.float32), name='accuracy')\n",
    "\n",
    "tests.test_conv_net(conv_net)"
   ]
  },
  {
   "cell_type": "markdown",
   "metadata": {},
   "source": [
    "## Train the Neural Network\n",
    "### Single Optimization\n",
    "Implement the function `train_neural_network` to do a single optimization.  The optimization should use `optimizer` to optimize in `session` with a `feed_dict` of the following:\n",
    "* `x` for image input\n",
    "* `y` for labels\n",
    "* `keep_prob` for keep probability for dropout\n",
    "\n",
    "This function will be called for each batch, so `tf.global_variables_initializer()` has already been called.\n",
    "\n",
    "Note: Nothing needs to be returned. This function is only optimizing the neural network."
   ]
  },
  {
   "cell_type": "code",
   "execution_count": 13,
   "metadata": {},
   "outputs": [
    {
     "name": "stdout",
     "output_type": "stream",
     "text": [
      "Tests Passed\n"
     ]
    }
   ],
   "source": [
    "def train_neural_network(session, optimizer, keep_probability, feature_batch, label_batch):\n",
    "    \"\"\"\n",
    "    Optimize the session on a batch of images and labels\n",
    "    : session: Current TensorFlow session\n",
    "    : optimizer: TensorFlow optimizer function\n",
    "    : keep_probability: keep probability\n",
    "    : feature_batch: Batch of Numpy image data\n",
    "    : label_batch: Batch of Numpy label data\n",
    "    \"\"\"\n",
    "    # TODO: Implement Function\n",
    "    session.run(optimizer, feed_dict={x:feature_batch, y:label_batch, keep_prob:keep_probability})\n",
    "\n",
    "\n",
    "\"\"\"\n",
    "DON'T MODIFY ANYTHING IN THIS CELL THAT IS BELOW THIS LINE\n",
    "\"\"\"\n",
    "tests.test_train_nn(train_neural_network)"
   ]
  },
  {
   "cell_type": "markdown",
   "metadata": {},
   "source": [
    "### Show Stats\n",
    "Implement the function `print_stats` to print loss and validation accuracy.  Use the global variables `valid_features` and `valid_labels` to calculate validation accuracy.  Use a keep probability of `1.0` to calculate the loss and validation accuracy."
   ]
  },
  {
   "cell_type": "code",
   "execution_count": 17,
   "metadata": {
    "collapsed": true
   },
   "outputs": [],
   "source": [
    "def print_stats(session, feature_batch, label_batch, cost, accuracy):\n",
    "    \"\"\"\n",
    "    Print information about loss and validation accuracy\n",
    "    : session: Current TensorFlow session\n",
    "    : feature_batch: Batch of Numpy image data\n",
    "    : label_batch: Batch of Numpy label data\n",
    "    : cost: TensorFlow cost function\n",
    "    : accuracy: TensorFlow accuracy function\n",
    "    \"\"\"\n",
    "    # TODO: Implement Function\n",
    "    Loss=session.run(cost, feed_dict={x:feature_batch, y:label_batch, keep_prob: 1.0})\n",
    "    Accuracy=session.run(accuracy, feed_dict={x: valid_features, y:valid_labels, keep_prob:1.0})\n",
    "    \n",
    "    print('The Loss of training batch is {:.4f}'.format(Loss))\n",
    "    print('The Accuracy of validation set is {:.4f}'.format(Accuracy))"
   ]
  },
  {
   "cell_type": "markdown",
   "metadata": {},
   "source": [
    "### Hyperparameters\n",
    "Tune the following parameters:\n",
    "* Set `epochs` to the number of iterations until the network stops learning or start overfitting\n",
    "* Set `batch_size` to the highest number that your machine has memory for.  Most people set them to common sizes of memory:\n",
    " * 64\n",
    " * 128\n",
    " * 256\n",
    " * ...\n",
    "* Set `keep_probability` to the probability of keeping a node using dropout"
   ]
  },
  {
   "cell_type": "code",
   "execution_count": 20,
   "metadata": {
    "collapsed": true
   },
   "outputs": [],
   "source": [
    "# TODO: Tune Parameters\n",
    "epochs = 33\n",
    "batch_size = 128\n",
    "keep_probability = 0.5"
   ]
  },
  {
   "cell_type": "markdown",
   "metadata": {},
   "source": [
    "### Train on a Single CIFAR-10 Batch\n",
    "Instead of training the neural network on all the CIFAR-10 batches of data, let's use a single batch. This should save time while you iterate on the model to get a better accuracy.  Once the final validation accuracy is 50% or greater, run the model on all the data in the next section."
   ]
  },
  {
   "cell_type": "code",
   "execution_count": 21,
   "metadata": {},
   "outputs": [
    {
     "name": "stdout",
     "output_type": "stream",
     "text": [
      "Checking the Training on a Single Batch...\n",
      "Epoch  1, CIFAR-10 Batch 1:  The Loss of training batch is 2.1266\n",
      "The Accuracy of validation set is 0.3106\n",
      "Epoch  2, CIFAR-10 Batch 1:  The Loss of training batch is 1.9978\n",
      "The Accuracy of validation set is 0.3792\n",
      "Epoch  3, CIFAR-10 Batch 1:  The Loss of training batch is 1.8675\n",
      "The Accuracy of validation set is 0.4234\n",
      "Epoch  4, CIFAR-10 Batch 1:  The Loss of training batch is 1.7322\n",
      "The Accuracy of validation set is 0.4428\n",
      "Epoch  5, CIFAR-10 Batch 1:  The Loss of training batch is 1.6522\n",
      "The Accuracy of validation set is 0.4396\n",
      "Epoch  6, CIFAR-10 Batch 1:  The Loss of training batch is 1.5525\n",
      "The Accuracy of validation set is 0.4662\n",
      "Epoch  7, CIFAR-10 Batch 1:  The Loss of training batch is 1.5018\n",
      "The Accuracy of validation set is 0.4810\n",
      "Epoch  8, CIFAR-10 Batch 1:  The Loss of training batch is 1.4405\n",
      "The Accuracy of validation set is 0.4842\n",
      "Epoch  9, CIFAR-10 Batch 1:  The Loss of training batch is 1.3796\n",
      "The Accuracy of validation set is 0.4968\n",
      "Epoch 10, CIFAR-10 Batch 1:  The Loss of training batch is 1.3129\n",
      "The Accuracy of validation set is 0.5070\n",
      "Epoch 11, CIFAR-10 Batch 1:  The Loss of training batch is 1.2718\n",
      "The Accuracy of validation set is 0.5124\n",
      "Epoch 12, CIFAR-10 Batch 1:  The Loss of training batch is 1.1797\n",
      "The Accuracy of validation set is 0.5180\n",
      "Epoch 13, CIFAR-10 Batch 1:  The Loss of training batch is 1.1351\n",
      "The Accuracy of validation set is 0.5244\n",
      "Epoch 14, CIFAR-10 Batch 1:  The Loss of training batch is 1.0560\n",
      "The Accuracy of validation set is 0.5336\n",
      "Epoch 15, CIFAR-10 Batch 1:  The Loss of training batch is 1.0530\n",
      "The Accuracy of validation set is 0.5382\n",
      "Epoch 16, CIFAR-10 Batch 1:  The Loss of training batch is 0.9875\n",
      "The Accuracy of validation set is 0.5506\n",
      "Epoch 17, CIFAR-10 Batch 1:  The Loss of training batch is 0.9653\n",
      "The Accuracy of validation set is 0.5398\n",
      "Epoch 18, CIFAR-10 Batch 1:  The Loss of training batch is 0.9533\n",
      "The Accuracy of validation set is 0.5390\n",
      "Epoch 19, CIFAR-10 Batch 1:  The Loss of training batch is 0.8747\n",
      "The Accuracy of validation set is 0.5550\n",
      "Epoch 20, CIFAR-10 Batch 1:  The Loss of training batch is 0.8257\n",
      "The Accuracy of validation set is 0.5590\n",
      "Epoch 21, CIFAR-10 Batch 1:  The Loss of training batch is 0.8135\n",
      "The Accuracy of validation set is 0.5634\n",
      "Epoch 22, CIFAR-10 Batch 1:  The Loss of training batch is 0.7804\n",
      "The Accuracy of validation set is 0.5700\n",
      "Epoch 23, CIFAR-10 Batch 1:  The Loss of training batch is 0.8126\n",
      "The Accuracy of validation set is 0.5670\n",
      "Epoch 24, CIFAR-10 Batch 1:  The Loss of training batch is 0.7242\n",
      "The Accuracy of validation set is 0.5660\n",
      "Epoch 25, CIFAR-10 Batch 1:  The Loss of training batch is 0.6749\n",
      "The Accuracy of validation set is 0.5840\n",
      "Epoch 26, CIFAR-10 Batch 1:  The Loss of training batch is 0.6485\n",
      "The Accuracy of validation set is 0.5792\n",
      "Epoch 27, CIFAR-10 Batch 1:  The Loss of training batch is 0.6619\n",
      "The Accuracy of validation set is 0.5720\n",
      "Epoch 28, CIFAR-10 Batch 1:  The Loss of training batch is 0.6090\n",
      "The Accuracy of validation set is 0.5790\n",
      "Epoch 29, CIFAR-10 Batch 1:  The Loss of training batch is 0.6090\n",
      "The Accuracy of validation set is 0.5712\n",
      "Epoch 30, CIFAR-10 Batch 1:  The Loss of training batch is 0.4972\n",
      "The Accuracy of validation set is 0.5886\n",
      "Epoch 31, CIFAR-10 Batch 1:  The Loss of training batch is 0.4625\n",
      "The Accuracy of validation set is 0.5902\n",
      "Epoch 32, CIFAR-10 Batch 1:  The Loss of training batch is 0.4616\n",
      "The Accuracy of validation set is 0.5880\n",
      "Epoch 33, CIFAR-10 Batch 1:  The Loss of training batch is 0.4328\n",
      "The Accuracy of validation set is 0.5856\n"
     ]
    }
   ],
   "source": [
    "\"\"\"\n",
    "DON'T MODIFY ANYTHING IN THIS CELL\n",
    "\"\"\"\n",
    "print('Checking the Training on a Single Batch...')\n",
    "with tf.Session() as sess:\n",
    "    # Initializing the variables\n",
    "    sess.run(tf.global_variables_initializer())\n",
    "    \n",
    "    # Training cycle\n",
    "    for epoch in range(epochs):\n",
    "        batch_i = 1\n",
    "        for batch_features, batch_labels in helper.load_preprocess_training_batch(batch_i, batch_size):\n",
    "            train_neural_network(sess, optimizer, keep_probability, batch_features, batch_labels)\n",
    "        print('Epoch {:>2}, CIFAR-10 Batch {}:  '.format(epoch + 1, batch_i), end='')\n",
    "        print_stats(sess, batch_features, batch_labels, cost, accuracy)"
   ]
  },
  {
   "cell_type": "markdown",
   "metadata": {},
   "source": [
    "### Fully Train the Model\n",
    "Now that you got a good accuracy with a single CIFAR-10 batch, try it with all five batches."
   ]
  },
  {
   "cell_type": "code",
   "execution_count": 22,
   "metadata": {},
   "outputs": [
    {
     "name": "stdout",
     "output_type": "stream",
     "text": [
      "Training...\n",
      "Epoch  1, CIFAR-10 Batch 1:  The Loss of training batch is 2.1035\n",
      "The Accuracy of validation set is 0.3270\n",
      "Epoch  1, CIFAR-10 Batch 2:  The Loss of training batch is 1.7955\n",
      "The Accuracy of validation set is 0.3918\n",
      "Epoch  1, CIFAR-10 Batch 3:  The Loss of training batch is 1.5786\n",
      "The Accuracy of validation set is 0.4084\n",
      "Epoch  1, CIFAR-10 Batch 4:  The Loss of training batch is 1.5434\n",
      "The Accuracy of validation set is 0.4398\n",
      "Epoch  1, CIFAR-10 Batch 5:  The Loss of training batch is 1.5554\n",
      "The Accuracy of validation set is 0.4568\n",
      "Epoch  2, CIFAR-10 Batch 1:  The Loss of training batch is 1.8303\n",
      "The Accuracy of validation set is 0.4768\n",
      "Epoch  2, CIFAR-10 Batch 2:  The Loss of training batch is 1.4556\n",
      "The Accuracy of validation set is 0.4652\n",
      "Epoch  2, CIFAR-10 Batch 3:  The Loss of training batch is 1.3260\n",
      "The Accuracy of validation set is 0.4804\n",
      "Epoch  2, CIFAR-10 Batch 4:  The Loss of training batch is 1.3380\n",
      "The Accuracy of validation set is 0.5120\n",
      "Epoch  2, CIFAR-10 Batch 5:  The Loss of training batch is 1.3802\n",
      "The Accuracy of validation set is 0.5264\n",
      "Epoch  3, CIFAR-10 Batch 1:  The Loss of training batch is 1.5267\n",
      "The Accuracy of validation set is 0.5290\n",
      "Epoch  3, CIFAR-10 Batch 2:  The Loss of training batch is 1.4477\n",
      "The Accuracy of validation set is 0.5414\n",
      "Epoch  3, CIFAR-10 Batch 3:  The Loss of training batch is 1.1510\n",
      "The Accuracy of validation set is 0.5374\n",
      "Epoch  3, CIFAR-10 Batch 4:  The Loss of training batch is 1.2405\n",
      "The Accuracy of validation set is 0.5608\n",
      "Epoch  3, CIFAR-10 Batch 5:  The Loss of training batch is 1.1810\n",
      "The Accuracy of validation set is 0.5590\n",
      "Epoch  4, CIFAR-10 Batch 1:  The Loss of training batch is 1.3255\n",
      "The Accuracy of validation set is 0.5680\n",
      "Epoch  4, CIFAR-10 Batch 2:  The Loss of training batch is 1.1867\n",
      "The Accuracy of validation set is 0.5668\n",
      "Epoch  4, CIFAR-10 Batch 3:  The Loss of training batch is 1.0188\n",
      "The Accuracy of validation set is 0.5842\n",
      "Epoch  4, CIFAR-10 Batch 4:  The Loss of training batch is 1.1194\n",
      "The Accuracy of validation set is 0.5840\n",
      "Epoch  4, CIFAR-10 Batch 5:  The Loss of training batch is 1.1560\n",
      "The Accuracy of validation set is 0.5644\n",
      "Epoch  5, CIFAR-10 Batch 1:  The Loss of training batch is 1.1608\n",
      "The Accuracy of validation set is 0.5892\n",
      "Epoch  5, CIFAR-10 Batch 2:  The Loss of training batch is 1.0811\n",
      "The Accuracy of validation set is 0.6046\n",
      "Epoch  5, CIFAR-10 Batch 3:  The Loss of training batch is 1.0131\n",
      "The Accuracy of validation set is 0.5918\n",
      "Epoch  5, CIFAR-10 Batch 4:  The Loss of training batch is 1.0566\n",
      "The Accuracy of validation set is 0.6062\n",
      "Epoch  5, CIFAR-10 Batch 5:  The Loss of training batch is 0.9783\n",
      "The Accuracy of validation set is 0.6192\n",
      "Epoch  6, CIFAR-10 Batch 1:  The Loss of training batch is 1.0799\n",
      "The Accuracy of validation set is 0.6178\n",
      "Epoch  6, CIFAR-10 Batch 2:  The Loss of training batch is 0.9248\n",
      "The Accuracy of validation set is 0.6160\n",
      "Epoch  6, CIFAR-10 Batch 3:  The Loss of training batch is 0.8960\n",
      "The Accuracy of validation set is 0.6058\n",
      "Epoch  6, CIFAR-10 Batch 4:  The Loss of training batch is 0.9901\n",
      "The Accuracy of validation set is 0.6254\n",
      "Epoch  6, CIFAR-10 Batch 5:  The Loss of training batch is 0.9013\n",
      "The Accuracy of validation set is 0.6418\n",
      "Epoch  7, CIFAR-10 Batch 1:  The Loss of training batch is 0.9928\n",
      "The Accuracy of validation set is 0.6134\n",
      "Epoch  7, CIFAR-10 Batch 2:  The Loss of training batch is 0.8487\n",
      "The Accuracy of validation set is 0.6460\n",
      "Epoch  7, CIFAR-10 Batch 3:  The Loss of training batch is 0.7801\n",
      "The Accuracy of validation set is 0.6246\n",
      "Epoch  7, CIFAR-10 Batch 4:  The Loss of training batch is 0.8836\n",
      "The Accuracy of validation set is 0.6474\n",
      "Epoch  7, CIFAR-10 Batch 5:  The Loss of training batch is 0.8738\n",
      "The Accuracy of validation set is 0.6480\n",
      "Epoch  8, CIFAR-10 Batch 1:  The Loss of training batch is 0.9018\n",
      "The Accuracy of validation set is 0.6494\n",
      "Epoch  8, CIFAR-10 Batch 2:  The Loss of training batch is 0.7910\n",
      "The Accuracy of validation set is 0.6664\n",
      "Epoch  8, CIFAR-10 Batch 3:  The Loss of training batch is 0.7419\n",
      "The Accuracy of validation set is 0.6448\n",
      "Epoch  8, CIFAR-10 Batch 4:  The Loss of training batch is 0.8023\n",
      "The Accuracy of validation set is 0.6566\n",
      "Epoch  8, CIFAR-10 Batch 5:  The Loss of training batch is 0.7836\n",
      "The Accuracy of validation set is 0.6496\n",
      "Epoch  9, CIFAR-10 Batch 1:  The Loss of training batch is 0.8700\n",
      "The Accuracy of validation set is 0.6490\n",
      "Epoch  9, CIFAR-10 Batch 2:  The Loss of training batch is 0.6918\n",
      "The Accuracy of validation set is 0.6616\n",
      "Epoch  9, CIFAR-10 Batch 3:  The Loss of training batch is 0.6353\n",
      "The Accuracy of validation set is 0.6588\n",
      "Epoch  9, CIFAR-10 Batch 4:  The Loss of training batch is 0.7952\n",
      "The Accuracy of validation set is 0.6626\n",
      "Epoch  9, CIFAR-10 Batch 5:  The Loss of training batch is 0.7102\n",
      "The Accuracy of validation set is 0.6756\n",
      "Epoch 10, CIFAR-10 Batch 1:  The Loss of training batch is 0.7326\n",
      "The Accuracy of validation set is 0.6550\n",
      "Epoch 10, CIFAR-10 Batch 2:  The Loss of training batch is 0.7168\n",
      "The Accuracy of validation set is 0.6660\n",
      "Epoch 10, CIFAR-10 Batch 3:  The Loss of training batch is 0.5789\n",
      "The Accuracy of validation set is 0.6732\n",
      "Epoch 10, CIFAR-10 Batch 4:  The Loss of training batch is 0.7731\n",
      "The Accuracy of validation set is 0.6614\n",
      "Epoch 10, CIFAR-10 Batch 5:  The Loss of training batch is 0.6793\n",
      "The Accuracy of validation set is 0.6808\n",
      "Epoch 11, CIFAR-10 Batch 1:  The Loss of training batch is 0.6312\n",
      "The Accuracy of validation set is 0.6598\n",
      "Epoch 11, CIFAR-10 Batch 2:  The Loss of training batch is 0.6830\n",
      "The Accuracy of validation set is 0.6666\n",
      "Epoch 11, CIFAR-10 Batch 3:  The Loss of training batch is 0.5480\n",
      "The Accuracy of validation set is 0.6824\n",
      "Epoch 11, CIFAR-10 Batch 4:  The Loss of training batch is 0.6689\n",
      "The Accuracy of validation set is 0.6750\n",
      "Epoch 11, CIFAR-10 Batch 5:  The Loss of training batch is 0.6298\n",
      "The Accuracy of validation set is 0.6706\n",
      "Epoch 12, CIFAR-10 Batch 1:  The Loss of training batch is 0.6183\n",
      "The Accuracy of validation set is 0.6792\n",
      "Epoch 12, CIFAR-10 Batch 2:  The Loss of training batch is 0.6247\n",
      "The Accuracy of validation set is 0.6848\n",
      "Epoch 12, CIFAR-10 Batch 3:  The Loss of training batch is 0.4708\n",
      "The Accuracy of validation set is 0.6972\n",
      "Epoch 12, CIFAR-10 Batch 4:  The Loss of training batch is 0.6377\n",
      "The Accuracy of validation set is 0.6800\n",
      "Epoch 12, CIFAR-10 Batch 5:  The Loss of training batch is 0.5471\n",
      "The Accuracy of validation set is 0.6760\n",
      "Epoch 13, CIFAR-10 Batch 1:  The Loss of training batch is 0.5372\n",
      "The Accuracy of validation set is 0.6910\n",
      "Epoch 13, CIFAR-10 Batch 2:  The Loss of training batch is 0.5755\n",
      "The Accuracy of validation set is 0.6888\n",
      "Epoch 13, CIFAR-10 Batch 3:  The Loss of training batch is 0.4798\n",
      "The Accuracy of validation set is 0.6988\n",
      "Epoch 13, CIFAR-10 Batch 4:  The Loss of training batch is 0.5437\n",
      "The Accuracy of validation set is 0.6992\n",
      "Epoch 13, CIFAR-10 Batch 5:  The Loss of training batch is 0.5510\n",
      "The Accuracy of validation set is 0.6814\n",
      "Epoch 14, CIFAR-10 Batch 1:  The Loss of training batch is 0.4958\n",
      "The Accuracy of validation set is 0.7010\n",
      "Epoch 14, CIFAR-10 Batch 2:  The Loss of training batch is 0.4953\n",
      "The Accuracy of validation set is 0.6866\n",
      "Epoch 14, CIFAR-10 Batch 3:  The Loss of training batch is 0.4289\n",
      "The Accuracy of validation set is 0.6950\n",
      "Epoch 14, CIFAR-10 Batch 4:  The Loss of training batch is 0.5186\n",
      "The Accuracy of validation set is 0.6998\n",
      "Epoch 14, CIFAR-10 Batch 5:  The Loss of training batch is 0.4876\n",
      "The Accuracy of validation set is 0.6818\n",
      "Epoch 15, CIFAR-10 Batch 1:  The Loss of training batch is 0.5034\n",
      "The Accuracy of validation set is 0.6848\n",
      "Epoch 15, CIFAR-10 Batch 2:  The Loss of training batch is 0.4777\n",
      "The Accuracy of validation set is 0.7014\n",
      "Epoch 15, CIFAR-10 Batch 3:  The Loss of training batch is 0.4009\n",
      "The Accuracy of validation set is 0.7178\n",
      "Epoch 15, CIFAR-10 Batch 4:  The Loss of training batch is 0.5406\n",
      "The Accuracy of validation set is 0.6894\n",
      "Epoch 15, CIFAR-10 Batch 5:  The Loss of training batch is 0.4266\n",
      "The Accuracy of validation set is 0.7008\n",
      "Epoch 16, CIFAR-10 Batch 1:  The Loss of training batch is 0.4604\n",
      "The Accuracy of validation set is 0.6952\n"
     ]
    },
    {
     "name": "stdout",
     "output_type": "stream",
     "text": [
      "Epoch 16, CIFAR-10 Batch 2:  The Loss of training batch is 0.4028\n",
      "The Accuracy of validation set is 0.7048\n",
      "Epoch 16, CIFAR-10 Batch 3:  The Loss of training batch is 0.3459\n",
      "The Accuracy of validation set is 0.7106\n",
      "Epoch 16, CIFAR-10 Batch 4:  The Loss of training batch is 0.4674\n",
      "The Accuracy of validation set is 0.7036\n",
      "Epoch 16, CIFAR-10 Batch 5:  The Loss of training batch is 0.4114\n",
      "The Accuracy of validation set is 0.6934\n",
      "Epoch 17, CIFAR-10 Batch 1:  The Loss of training batch is 0.4169\n",
      "The Accuracy of validation set is 0.6988\n",
      "Epoch 17, CIFAR-10 Batch 2:  The Loss of training batch is 0.3867\n",
      "The Accuracy of validation set is 0.6986\n",
      "Epoch 17, CIFAR-10 Batch 3:  The Loss of training batch is 0.3890\n",
      "The Accuracy of validation set is 0.7114\n",
      "Epoch 17, CIFAR-10 Batch 4:  The Loss of training batch is 0.4531\n",
      "The Accuracy of validation set is 0.6940\n",
      "Epoch 17, CIFAR-10 Batch 5:  The Loss of training batch is 0.3667\n",
      "The Accuracy of validation set is 0.6980\n",
      "Epoch 18, CIFAR-10 Batch 1:  The Loss of training batch is 0.4351\n",
      "The Accuracy of validation set is 0.7070\n",
      "Epoch 18, CIFAR-10 Batch 2:  The Loss of training batch is 0.3721\n",
      "The Accuracy of validation set is 0.7014\n",
      "Epoch 18, CIFAR-10 Batch 3:  The Loss of training batch is 0.3140\n",
      "The Accuracy of validation set is 0.7110\n",
      "Epoch 18, CIFAR-10 Batch 4:  The Loss of training batch is 0.4063\n",
      "The Accuracy of validation set is 0.6996\n",
      "Epoch 18, CIFAR-10 Batch 5:  The Loss of training batch is 0.3897\n",
      "The Accuracy of validation set is 0.7008\n",
      "Epoch 19, CIFAR-10 Batch 1:  The Loss of training batch is 0.3766\n",
      "The Accuracy of validation set is 0.7112\n",
      "Epoch 19, CIFAR-10 Batch 2:  The Loss of training batch is 0.3438\n",
      "The Accuracy of validation set is 0.7170\n",
      "Epoch 19, CIFAR-10 Batch 3:  The Loss of training batch is 0.2773\n",
      "The Accuracy of validation set is 0.7082\n",
      "Epoch 19, CIFAR-10 Batch 4:  The Loss of training batch is 0.4526\n",
      "The Accuracy of validation set is 0.6892\n",
      "Epoch 19, CIFAR-10 Batch 5:  The Loss of training batch is 0.3558\n",
      "The Accuracy of validation set is 0.6998\n",
      "Epoch 20, CIFAR-10 Batch 1:  The Loss of training batch is 0.3598\n",
      "The Accuracy of validation set is 0.7096\n",
      "Epoch 20, CIFAR-10 Batch 2:  The Loss of training batch is 0.3627\n",
      "The Accuracy of validation set is 0.7122\n",
      "Epoch 20, CIFAR-10 Batch 3:  The Loss of training batch is 0.2886\n",
      "The Accuracy of validation set is 0.7200\n",
      "Epoch 20, CIFAR-10 Batch 4:  The Loss of training batch is 0.4352\n",
      "The Accuracy of validation set is 0.6930\n",
      "Epoch 20, CIFAR-10 Batch 5:  The Loss of training batch is 0.2902\n",
      "The Accuracy of validation set is 0.7044\n",
      "Epoch 21, CIFAR-10 Batch 1:  The Loss of training batch is 0.3567\n",
      "The Accuracy of validation set is 0.7106\n",
      "Epoch 21, CIFAR-10 Batch 2:  The Loss of training batch is 0.3237\n",
      "The Accuracy of validation set is 0.7186\n",
      "Epoch 21, CIFAR-10 Batch 3:  The Loss of training batch is 0.2763\n",
      "The Accuracy of validation set is 0.7162\n",
      "Epoch 21, CIFAR-10 Batch 4:  The Loss of training batch is 0.3586\n",
      "The Accuracy of validation set is 0.7004\n",
      "Epoch 21, CIFAR-10 Batch 5:  The Loss of training batch is 0.2923\n",
      "The Accuracy of validation set is 0.7184\n",
      "Epoch 22, CIFAR-10 Batch 1:  The Loss of training batch is 0.2940\n",
      "The Accuracy of validation set is 0.7096\n",
      "Epoch 22, CIFAR-10 Batch 2:  The Loss of training batch is 0.2835\n",
      "The Accuracy of validation set is 0.7142\n",
      "Epoch 22, CIFAR-10 Batch 3:  The Loss of training batch is 0.2754\n",
      "The Accuracy of validation set is 0.7132\n",
      "Epoch 22, CIFAR-10 Batch 4:  The Loss of training batch is 0.3526\n",
      "The Accuracy of validation set is 0.6998\n",
      "Epoch 22, CIFAR-10 Batch 5:  The Loss of training batch is 0.2843\n",
      "The Accuracy of validation set is 0.7096\n",
      "Epoch 23, CIFAR-10 Batch 1:  The Loss of training batch is 0.3046\n",
      "The Accuracy of validation set is 0.7160\n",
      "Epoch 23, CIFAR-10 Batch 2:  The Loss of training batch is 0.3517\n",
      "The Accuracy of validation set is 0.7088\n",
      "Epoch 23, CIFAR-10 Batch 3:  The Loss of training batch is 0.2801\n",
      "The Accuracy of validation set is 0.6886\n",
      "Epoch 23, CIFAR-10 Batch 4:  The Loss of training batch is 0.2863\n",
      "The Accuracy of validation set is 0.7088\n",
      "Epoch 23, CIFAR-10 Batch 5:  The Loss of training batch is 0.2510\n",
      "The Accuracy of validation set is 0.7168\n",
      "Epoch 24, CIFAR-10 Batch 1:  The Loss of training batch is 0.2724\n",
      "The Accuracy of validation set is 0.7116\n",
      "Epoch 24, CIFAR-10 Batch 2:  The Loss of training batch is 0.2883\n",
      "The Accuracy of validation set is 0.7130\n",
      "Epoch 24, CIFAR-10 Batch 3:  The Loss of training batch is 0.1997\n",
      "The Accuracy of validation set is 0.7008\n",
      "Epoch 24, CIFAR-10 Batch 4:  The Loss of training batch is 0.2859\n",
      "The Accuracy of validation set is 0.7162\n",
      "Epoch 24, CIFAR-10 Batch 5:  The Loss of training batch is 0.2263\n",
      "The Accuracy of validation set is 0.7208\n",
      "Epoch 25, CIFAR-10 Batch 1:  The Loss of training batch is 0.2616\n",
      "The Accuracy of validation set is 0.7184\n",
      "Epoch 25, CIFAR-10 Batch 2:  The Loss of training batch is 0.2712\n",
      "The Accuracy of validation set is 0.7206\n",
      "Epoch 25, CIFAR-10 Batch 3:  The Loss of training batch is 0.1915\n",
      "The Accuracy of validation set is 0.7170\n",
      "Epoch 25, CIFAR-10 Batch 4:  The Loss of training batch is 0.2896\n",
      "The Accuracy of validation set is 0.7034\n",
      "Epoch 25, CIFAR-10 Batch 5:  The Loss of training batch is 0.1885\n",
      "The Accuracy of validation set is 0.7172\n",
      "Epoch 26, CIFAR-10 Batch 1:  The Loss of training batch is 0.2395\n",
      "The Accuracy of validation set is 0.7080\n",
      "Epoch 26, CIFAR-10 Batch 2:  The Loss of training batch is 0.2445\n",
      "The Accuracy of validation set is 0.7194\n",
      "Epoch 26, CIFAR-10 Batch 3:  The Loss of training batch is 0.2065\n",
      "The Accuracy of validation set is 0.7124\n",
      "Epoch 26, CIFAR-10 Batch 4:  The Loss of training batch is 0.2633\n",
      "The Accuracy of validation set is 0.7156\n",
      "Epoch 26, CIFAR-10 Batch 5:  The Loss of training batch is 0.1814\n",
      "The Accuracy of validation set is 0.7102\n",
      "Epoch 27, CIFAR-10 Batch 1:  The Loss of training batch is 0.2538\n",
      "The Accuracy of validation set is 0.7042\n",
      "Epoch 27, CIFAR-10 Batch 2:  The Loss of training batch is 0.2630\n",
      "The Accuracy of validation set is 0.7100\n",
      "Epoch 27, CIFAR-10 Batch 3:  The Loss of training batch is 0.2038\n",
      "The Accuracy of validation set is 0.7098\n",
      "Epoch 27, CIFAR-10 Batch 4:  The Loss of training batch is 0.2548\n",
      "The Accuracy of validation set is 0.7130\n",
      "Epoch 27, CIFAR-10 Batch 5:  The Loss of training batch is 0.1662\n",
      "The Accuracy of validation set is 0.7172\n",
      "Epoch 28, CIFAR-10 Batch 1:  The Loss of training batch is 0.1844\n",
      "The Accuracy of validation set is 0.7116\n",
      "Epoch 28, CIFAR-10 Batch 2:  The Loss of training batch is 0.2486\n",
      "The Accuracy of validation set is 0.7140\n",
      "Epoch 28, CIFAR-10 Batch 3:  The Loss of training batch is 0.1763\n",
      "The Accuracy of validation set is 0.7148\n",
      "Epoch 28, CIFAR-10 Batch 4:  The Loss of training batch is 0.2319\n",
      "The Accuracy of validation set is 0.7186\n",
      "Epoch 28, CIFAR-10 Batch 5:  The Loss of training batch is 0.1752\n",
      "The Accuracy of validation set is 0.7188\n",
      "Epoch 29, CIFAR-10 Batch 1:  The Loss of training batch is 0.2033\n",
      "The Accuracy of validation set is 0.7070\n",
      "Epoch 29, CIFAR-10 Batch 2:  The Loss of training batch is 0.1922\n",
      "The Accuracy of validation set is 0.7210\n",
      "Epoch 29, CIFAR-10 Batch 3:  The Loss of training batch is 0.2110\n",
      "The Accuracy of validation set is 0.6994\n",
      "Epoch 29, CIFAR-10 Batch 4:  The Loss of training batch is 0.2114\n",
      "The Accuracy of validation set is 0.7178\n",
      "Epoch 29, CIFAR-10 Batch 5:  The Loss of training batch is 0.1584\n",
      "The Accuracy of validation set is 0.7188\n",
      "Epoch 30, CIFAR-10 Batch 1:  The Loss of training batch is 0.1859\n",
      "The Accuracy of validation set is 0.7072\n",
      "Epoch 30, CIFAR-10 Batch 2:  The Loss of training batch is 0.1903\n",
      "The Accuracy of validation set is 0.7160\n",
      "Epoch 30, CIFAR-10 Batch 3:  The Loss of training batch is 0.1365\n",
      "The Accuracy of validation set is 0.7062\n",
      "Epoch 30, CIFAR-10 Batch 4:  The Loss of training batch is 0.2405\n",
      "The Accuracy of validation set is 0.7196\n",
      "Epoch 30, CIFAR-10 Batch 5:  The Loss of training batch is 0.1431\n",
      "The Accuracy of validation set is 0.7218\n",
      "Epoch 31, CIFAR-10 Batch 1:  The Loss of training batch is 0.1900\n",
      "The Accuracy of validation set is 0.7134\n",
      "Epoch 31, CIFAR-10 Batch 2:  The Loss of training batch is 0.1976\n",
      "The Accuracy of validation set is 0.7150\n"
     ]
    },
    {
     "name": "stdout",
     "output_type": "stream",
     "text": [
      "Epoch 31, CIFAR-10 Batch 3:  The Loss of training batch is 0.1648\n",
      "The Accuracy of validation set is 0.7078\n",
      "Epoch 31, CIFAR-10 Batch 4:  The Loss of training batch is 0.1845\n",
      "The Accuracy of validation set is 0.7154\n",
      "Epoch 31, CIFAR-10 Batch 5:  The Loss of training batch is 0.1791\n",
      "The Accuracy of validation set is 0.7140\n",
      "Epoch 32, CIFAR-10 Batch 1:  The Loss of training batch is 0.2010\n",
      "The Accuracy of validation set is 0.7084\n",
      "Epoch 32, CIFAR-10 Batch 2:  The Loss of training batch is 0.2084\n",
      "The Accuracy of validation set is 0.7072\n",
      "Epoch 32, CIFAR-10 Batch 3:  The Loss of training batch is 0.1371\n",
      "The Accuracy of validation set is 0.7186\n",
      "Epoch 32, CIFAR-10 Batch 4:  The Loss of training batch is 0.2279\n",
      "The Accuracy of validation set is 0.7192\n",
      "Epoch 32, CIFAR-10 Batch 5:  The Loss of training batch is 0.1527\n",
      "The Accuracy of validation set is 0.7172\n",
      "Epoch 33, CIFAR-10 Batch 1:  The Loss of training batch is 0.1919\n",
      "The Accuracy of validation set is 0.7096\n",
      "Epoch 33, CIFAR-10 Batch 2:  The Loss of training batch is 0.1935\n",
      "The Accuracy of validation set is 0.7126\n",
      "Epoch 33, CIFAR-10 Batch 3:  The Loss of training batch is 0.1295\n",
      "The Accuracy of validation set is 0.7176\n",
      "Epoch 33, CIFAR-10 Batch 4:  The Loss of training batch is 0.2164\n",
      "The Accuracy of validation set is 0.7192\n",
      "Epoch 33, CIFAR-10 Batch 5:  The Loss of training batch is 0.1337\n",
      "The Accuracy of validation set is 0.7196\n"
     ]
    }
   ],
   "source": [
    "\"\"\"\n",
    "DON'T MODIFY ANYTHING IN THIS CELL\n",
    "\"\"\"\n",
    "save_model_path = './image_classification'\n",
    "\n",
    "print('Training...')\n",
    "with tf.Session() as sess:\n",
    "    # Initializing the variables\n",
    "    sess.run(tf.global_variables_initializer())\n",
    "    \n",
    "    # Training cycle\n",
    "    for epoch in range(epochs):\n",
    "        # Loop over all batches\n",
    "        n_batches = 5\n",
    "        for batch_i in range(1, n_batches + 1):\n",
    "            for batch_features, batch_labels in helper.load_preprocess_training_batch(batch_i, batch_size):\n",
    "                train_neural_network(sess, optimizer, keep_probability, batch_features, batch_labels)\n",
    "            print('Epoch {:>2}, CIFAR-10 Batch {}:  '.format(epoch + 1, batch_i), end='')\n",
    "            print_stats(sess, batch_features, batch_labels, cost, accuracy)\n",
    "            \n",
    "    # Save Model\n",
    "    saver = tf.train.Saver()\n",
    "    save_path = saver.save(sess, save_model_path)"
   ]
  },
  {
   "cell_type": "markdown",
   "metadata": {},
   "source": [
    "# Checkpoint\n",
    "The model has been saved to disk.\n",
    "## Test Model\n",
    "Test your model against the test dataset.  This will be your final accuracy. You should have an accuracy greater than 50%. If you don't, keep tweaking the model architecture and parameters."
   ]
  },
  {
   "cell_type": "code",
   "execution_count": 23,
   "metadata": {},
   "outputs": [
    {
     "name": "stdout",
     "output_type": "stream",
     "text": [
      "Testing Accuracy: 0.7166732594936709\n",
      "\n"
     ]
    },
    {
     "data": {
      "image/png": "[encoded data removed]",
      "text/plain": [
       "<matplotlib.figure.Figure at 0x76007101d0>"
      ]
     },
     "metadata": {
      "image/png": {
       "height": 319,
       "width": 355
      }
     },
     "output_type": "display_data"
    }
   ],
   "source": [
    "\"\"\"\n",
    "DON'T MODIFY ANYTHING IN THIS CELL\n",
    "\"\"\"\n",
    "%matplotlib inline\n",
    "%config InlineBackend.figure_format = 'retina'\n",
    "\n",
    "import tensorflow as tf\n",
    "import pickle\n",
    "import helper\n",
    "import random\n",
    "\n",
    "# Set batch size if not already set\n",
    "try:\n",
    "    if batch_size:\n",
    "        pass\n",
    "except NameError:\n",
    "    batch_size = 64\n",
    "\n",
    "save_model_path = './image_classification'\n",
    "n_samples = 4\n",
    "top_n_predictions = 3\n",
    "\n",
    "def test_model():\n",
    "    \"\"\"\n",
    "    Test the saved model against the test dataset\n",
    "    \"\"\"\n",
    "\n",
    "    test_features, test_labels = pickle.load(open('preprocess_training.p', mode='rb'))\n",
    "    loaded_graph = tf.Graph()\n",
    "\n",
    "    with tf.Session(graph=loaded_graph) as sess:\n",
    "        # Load model\n",
    "        # tf.train.import_meta_graph(meta_graph_or_file, clear_devices=False, import_scope=None, **kwargs) Recreates a Graph saved in a MetaGraphDef proto.\n",
    "        loader = tf.train.import_meta_graph(save_model_path + '.meta')\n",
    "        loader.restore(sess, save_model_path)\n",
    "\n",
    "        # Get Tensors from loaded model\n",
    "        # tf.Graph().get_tensor_by_name(name) Returns the Tensor with the given name\n",
    "        loaded_x = loaded_graph.get_tensor_by_name('x:0')\n",
    "        loaded_y = loaded_graph.get_tensor_by_name('y:0')\n",
    "        loaded_keep_prob = loaded_graph.get_tensor_by_name('keep_prob:0')\n",
    "        loaded_logits = loaded_graph.get_tensor_by_name('logits:0')\n",
    "        loaded_acc = loaded_graph.get_tensor_by_name('accuracy:0')\n",
    "        \n",
    "        # Get accuracy in batches for memory limitations\n",
    "        test_batch_acc_total = 0\n",
    "        test_batch_count = 0\n",
    "        \n",
    "        for train_feature_batch, train_label_batch in helper.batch_features_labels(test_features, test_labels, batch_size):\n",
    "            test_batch_acc_total += sess.run(\n",
    "                loaded_acc,\n",
    "                feed_dict={loaded_x: train_feature_batch, loaded_y: train_label_batch, loaded_keep_prob: 1.0})\n",
    "            test_batch_count += 1\n",
    "\n",
    "        print('Testing Accuracy: {}\\n'.format(test_batch_acc_total/test_batch_count))\n",
    "\n",
    "        # Print Random Samples\n",
    "        # A tuple is a sequence of immutable Python objects. Tuples are sequences, just like lists. The differences between tuples and lists are, the tuples cannot be changed unlike lists and tuples use parentheses, whereas lists use square brackets.\n",
    "        # zip(*iterables)\n",
    "        random_test_features, random_test_labels = tuple(zip(*random.sample(list(zip(test_features, test_labels)), n_samples)))\n",
    "        # tf.nn.top_k(input, k=1, sorted=True, name=None)\n",
    "        # Finds values and indices of the k largest entries for the last dimension.\n",
    "        random_test_predictions = sess.run(\n",
    "            tf.nn.top_k(tf.nn.softmax(loaded_logits), top_n_predictions),\n",
    "            feed_dict={loaded_x: random_test_features, loaded_y: random_test_labels, loaded_keep_prob: 1.0})\n",
    "        helper.display_image_predictions(random_test_features, random_test_labels, random_test_predictions)\n",
    "\n",
    "\n",
    "test_model()"
   ]
  },
  {
   "cell_type": "markdown",
   "metadata": {},
   "source": [
    "## Why 50-80% Accuracy?\n",
    "You might be wondering why you can't get an accuracy any higher. First things first, 50% isn't bad for a simple CNN.  Pure guessing would get you 10% accuracy. That's because there are many more techniques that can be applied to your model and we recemmond that once you are done with this project, you explore!\n",
    "\n",
    "## Submitting This Project\n",
    "When submitting this project, make sure to run all the cells before saving the notebook.  Save the notebook file as \"image_classification.ipynb\" and save it as a HTML file under \"File\" -> \"Download as\".  Include the \"helper.py\" and \"problem_unittests.py\" files in your submission."
   ]
  }
 ],
 "metadata": {
  "kernelspec": {
   "display_name": "Python 3",
   "language": "python",
   "name": "python3"
  },
  "language_info": {
   "codemirror_mode": {
    "name": "ipython",
    "version": 3
   },
   "file_extension": ".py",
   "mimetype": "text/x-python",
   "name": "python",
   "nbconvert_exporter": "python",
   "pygments_lexer": "ipython3",
   "version": "3.5.3"
  }
 },
 "nbformat": 4,
 "nbformat_minor": 1
}
